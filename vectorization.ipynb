{
 "cells": [
  {
   "cell_type": "markdown",
   "metadata": {},
   "source": [
    "# Vectorization"
   ]
  },
  {
   "cell_type": "code",
   "execution_count": 20,
   "metadata": {},
   "outputs": [],
   "source": [
    "import numpy as np\n",
    "import time\n",
    "import math"
   ]
  },
  {
   "cell_type": "code",
   "execution_count": 16,
   "metadata": {},
   "outputs": [
    {
     "name": "stdout",
     "output_type": "stream",
     "text": [
      "[1 2 3 4]\n"
     ]
    }
   ],
   "source": [
    "a = np.array([1,2,3,4])\n",
    "print (a)"
   ]
  },
  {
   "cell_type": "markdown",
   "metadata": {},
   "source": [
    "## Vectorized version of a dot product"
   ]
  },
  {
   "cell_type": "code",
   "execution_count": 17,
   "metadata": {},
   "outputs": [
    {
     "name": "stdout",
     "output_type": "stream",
     "text": [
      "249909.29600916288\n",
      "Vectorized version: 1.071929931640625ms\n"
     ]
    }
   ],
   "source": [
    "million = 1000000\n",
    "a = np.random.rand(million)\n",
    "b = np.random.rand(million)\n",
    "\n",
    "tic = time.time()\n",
    "c = np.dot(a,b)\n",
    "toc = time.time()\n",
    "\n",
    "print(c)\n",
    "print('Vectorized version: ' + str(1000*(toc-tic)) + 'ms')"
   ]
  },
  {
   "cell_type": "code",
   "execution_count": 18,
   "metadata": {},
   "outputs": [
    {
     "name": "stdout",
     "output_type": "stream",
     "text": [
      "249909.29600915493\n",
      "For loop: 488.82079124450684ms\n"
     ]
    }
   ],
   "source": [
    "c = 0\n",
    "million = 1000000\n",
    "\n",
    "tic = time.time()\n",
    "for i in range(million):\n",
    "    c += a[i]*b[i]\n",
    "toc = time.time()\n",
    "\n",
    "print(c)\n",
    "print('For loop: ' + str(1000*(toc-tic)) + 'ms')"
   ]
  },
  {
   "cell_type": "markdown",
   "metadata": {},
   "source": [
    "### Note\n",
    "Whenever possible, avoid explicit for-loops\n",
    "\n",
    "For example.  \n",
    "\n",
    "Say you need to apply the exponential operation on every element of a matrix/vector"
   ]
  },
  {
   "cell_type": "code",
   "execution_count": 39,
   "metadata": {},
   "outputs": [
    {
     "name": "stdout",
     "output_type": "stream",
     "text": [
      "Vectorized version: 0.0591278076171875ms\n"
     ]
    }
   ],
   "source": [
    "n = 100\n",
    "v = np.array(np.arange(n))\n",
    "u = np.zeros((n,1))\n",
    "\n",
    "tic = time.time()\n",
    "u = np.exp(v)\n",
    "toc = time.time()\n",
    "\n",
    "print('Vectorized version: ' + str(1000*(toc-tic)) + 'ms')"
   ]
  },
  {
   "cell_type": "code",
   "execution_count": 40,
   "metadata": {},
   "outputs": [
    {
     "name": "stdout",
     "output_type": "stream",
     "text": [
      "For loop: 0.12087821960449219ms\n"
     ]
    }
   ],
   "source": [
    "n = 100\n",
    "v = np.array(np.arange(n))\n",
    "u = np.zeros((n,1))\n",
    "\n",
    "tic = time.time()\n",
    "for i in range(n):\n",
    "    u[i] = math.exp(v[i])\n",
    "toc = time.time()\n",
    "\n",
    "print('For loop: ' + str(1000*(toc-tic)) + 'ms')"
   ]
  },
  {
   "cell_type": "markdown",
   "metadata": {},
   "source": [
    "# Tips and Tricks\n",
    "\n",
    "## Avoid rank 1 arrays\n",
    "In the next example:\n",
    "`a` is a five column structure, also called a rank 1 array in Python , it is neither a row vector, nor a column vector. \n",
    "When printing `a.shape` returns `(5,)`"
   ]
  },
  {
   "cell_type": "code",
   "execution_count": 51,
   "metadata": {},
   "outputs": [
    {
     "name": "stdout",
     "output_type": "stream",
     "text": [
      "[-1.23545474 -0.34080391  0.07085952  0.24060343  1.81728232]\n",
      "(5,)\n",
      "[-1.23545474 -0.34080391  0.07085952  0.24060343  1.81728232]\n",
      "5.007921826715062\n"
     ]
    }
   ],
   "source": [
    "a = np.random.randn(5)\n",
    "print(a)\n",
    "print(a.shape)\n",
    "print(a.T)\n",
    "print(np.dot(a, a.T))"
   ]
  },
  {
   "cell_type": "markdown",
   "metadata": {},
   "source": [
    "The transpose looks the same as the rank 1 array.\n",
    "When printing the dot product between a and the transpose returns a number instead of an outer product.  \n",
    "\n",
    "To solve this use a more explicit way to write the dimensions of the matrix."
   ]
  },
  {
   "cell_type": "code",
   "execution_count": 52,
   "metadata": {},
   "outputs": [
    {
     "name": "stdout",
     "output_type": "stream",
     "text": [
      "[[ 1.31509148]\n",
      " [ 0.96066851]\n",
      " [ 0.99344072]\n",
      " [ 1.44768354]\n",
      " [-0.90759636]]\n",
      "(5, 1)\n",
      "[[ 1.31509148  0.96066851  0.99344072  1.44768354 -0.90759636]]\n",
      "[[ 1.7294656   1.26336698  1.30646543  1.90383629 -1.19357224]\n",
      " [ 1.26336698  0.92288399  0.95436722  1.39074399 -0.87189925]\n",
      " [ 1.30646543  0.95436722  0.98692446  1.43818777 -0.90164318]\n",
      " [ 1.90383629  1.39074399  1.43818777  2.09578762 -1.31391231]\n",
      " [-1.19357224 -0.87189925 -0.90164318 -1.31391231  0.82373115]]\n"
     ]
    }
   ],
   "source": [
    "a = np.random.randn(5, 1)\n",
    "print(a)\n",
    "print(a.shape)\n",
    "print(a.T)\n",
    "print(np.dot(a,a.T))"
   ]
  },
  {
   "cell_type": "code",
   "execution_count": 59,
   "metadata": {},
   "outputs": [
    {
     "data": {
      "text/plain": [
       "array([[ 0.03791062, -0.24670332, -0.62617848],\n",
       "       [ 0.03071569, -0.74492192, -2.57310989],\n",
       "       [ 0.07548846, -0.19141862,  0.27891329]])"
      ]
     },
     "execution_count": 59,
     "metadata": {},
     "output_type": "execute_result"
    }
   ],
   "source": [
    "a = np.random.randn(3, 3)\n",
    "b = np.random.randn(3, 1)\n",
    "c = a*b\n",
    "c"
   ]
  },
  {
   "cell_type": "code",
   "execution_count": null,
   "metadata": {},
   "outputs": [],
   "source": []
  }
 ],
 "metadata": {
  "kernelspec": {
   "display_name": "Python 3",
   "language": "python",
   "name": "python3"
  },
  "language_info": {
   "codemirror_mode": {
    "name": "ipython",
    "version": 3
   },
   "file_extension": ".py",
   "mimetype": "text/x-python",
   "name": "python",
   "nbconvert_exporter": "python",
   "pygments_lexer": "ipython3",
   "version": "3.6.0"
  }
 },
 "nbformat": 4,
 "nbformat_minor": 2
}
